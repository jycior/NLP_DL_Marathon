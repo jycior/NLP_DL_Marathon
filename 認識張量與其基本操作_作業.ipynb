{
 "cells": [
  {
   "cell_type": "markdown",
   "metadata": {},
   "source": [
    "### 作業目的: 更加熟習pytorch的tensor操作\n",
    "\n",
    "pytorch中有提供很多的API，讓使用者針對tensor進行各式各樣的操作，本次的作業希望讀者由pytorch的[官方網站](https://pytorch.org/docs/stable/torch.html)中選定四個針對tensor操作的API，對他的使用方法進行範例操作演練。"
   ]
  },
  {
   "cell_type": "markdown",
   "metadata": {},
   "source": [
    "### 選定的API 函數\n",
    "\n",
    "**請寫下選定的API functions**\n",
    "\n",
    "ex:\n",
    "* torch.from_array() / tensor.numpy()\n",
    "* torch.unsqueeze() / torch.squeeze()\n",
    "* tensor.transpose() / tensor.permute()\n",
    "* torch.reshape() / tensor.view()"
   ]
  },
  {
   "cell_type": "code",
   "execution_count": 3,
   "metadata": {},
   "outputs": [],
   "source": [
    "# Import torch and other required modules\n",
    "import torch\n",
    "import numpy as np"
   ]
  },
  {
   "cell_type": "code",
   "execution_count": 2,
   "metadata": {},
   "outputs": [
    {
     "name": "stdout",
     "output_type": "stream",
     "text": [
      "Collecting torch\n",
      "  Downloading torch-1.7.1-cp38-cp38-win_amd64.whl (184.0 MB)\n",
      "Requirement already satisfied: numpy in c:\\programdata\\anaconda3\\lib\\site-packages (from torch) (1.19.2)\n",
      "Requirement already satisfied: typing-extensions in c:\\programdata\\anaconda3\\lib\\site-packages (from torch) (3.7.4.3)\n",
      "Installing collected packages: torch\n",
      "Successfully installed torch-1.7.1\n"
     ]
    }
   ],
   "source": [
    "!pip install torch"
   ]
  },
  {
   "cell_type": "markdown",
   "metadata": {},
   "source": [
    "### 範例:\n",
    "### Function 1 - torch.from_array() / tensor.numpy()"
   ]
  },
  {
   "cell_type": "code",
   "execution_count": 4,
   "metadata": {},
   "outputs": [
    {
     "name": "stdout",
     "output_type": "stream",
     "text": [
      "a: <class 'numpy.ndarray'>, float64\n",
      "b: <class 'torch.Tensor'>, torch.float64\n",
      "c: <class 'torch.Tensor'>, torch.float64\n",
      "d: <class 'numpy.ndarray'>, float64\n"
     ]
    }
   ],
   "source": [
    "# Example 1 - 將torch tensor與numpy ndarray互相轉換\n",
    "a = np.random.rand(1,2,3,3)\n",
    "print(f'a: {type(a)}, {a.dtype}')\n",
    "b = torch.from_numpy(a)\n",
    "print(f'b: {type(b)}, {b.dtype}')\n",
    "c = torch.tensor(a)\n",
    "print(f'c: {type(c)}, {c.dtype}')\n",
    "d = c.numpy()\n",
    "print(f'd: {type(d)}, {d.dtype}')"
   ]
  },
  {
   "cell_type": "code",
   "execution_count": 4,
   "metadata": {},
   "outputs": [
    {
     "name": "stdout",
     "output_type": "stream",
     "text": [
      "a: <class 'numpy.ndarray'>, int64\n",
      "b: <class 'torch.Tensor'>, torch.int64\n",
      "c: <class 'torch.Tensor'>, torch.int64\n",
      "d: <class 'numpy.ndarray'>, int64\n"
     ]
    }
   ],
   "source": [
    "# Example 2 - 經過轉換後，torch tensor與numpy array依然有相近的資料型態\n",
    "a = np.random.randint(low=0, high=10, size=(2,2))\n",
    "print(f'a: {type(a)}, {a.dtype}')\n",
    "b = torch.from_numpy(a)\n",
    "print(f'b: {type(b)}, {b.dtype}')\n",
    "c = torch.tensor(a)\n",
    "print(f'c: {type(c)}, {c.dtype}')\n",
    "d = c.numpy()\n",
    "print(f'd: {type(d)}, {d.dtype}')"
   ]
  },
  {
   "cell_type": "markdown",
   "metadata": {},
   "source": [
    "### Function 2 - torch.unsqueeze()/torch.squeeze()"
   ]
  },
  {
   "cell_type": "code",
   "execution_count": 37,
   "metadata": {},
   "outputs": [
    {
     "name": "stdout",
     "output_type": "stream",
     "text": [
      "a.size:torch.Size([2, 1, 3, 1, 3, 3]),b.size:torch.Size([2, 3, 3, 3])\n",
      "c.size:torch.Size([2, 1, 3, 3, 3])\n"
     ]
    }
   ],
   "source": [
    "# Example 1 - Make all the dimensions that are 1 vanished.\n",
    "a = torch.zeros(2,1,3,1,3,3)\n",
    "b = torch.squeeze(a)\n",
    "print(f'a.size:{a.size()},b.size:{b.size()}')\n",
    "\n",
    "# - You can also choose specific dimensions with 1 index to be squeezed out：\n",
    "c = torch.squeeze(a,3)\n",
    "print(f'c.size:{c.size()}')"
   ]
  },
  {
   "cell_type": "code",
   "execution_count": 52,
   "metadata": {},
   "outputs": [
    {
     "name": "stdout",
     "output_type": "stream",
     "text": [
      "a.size:torch.Size([1, 5])b.size:torch.Size([1, 5, 1])b:tensor([[[1],\n",
      "         [2],\n",
      "         [3],\n",
      "         [4],\n",
      "         [5]]])\n"
     ]
    }
   ],
   "source": [
    "# Example 2 - 插入一個index=1的維度進入指定位置\n",
    "a = torch.tensor([[1,2,3,4,5]])\n",
    "b = torch.unsqueeze(a,2)\n",
    "print(f'a.size:{a.size()}b.size:{b.size()}b:{b}')"
   ]
  },
  {
   "cell_type": "markdown",
   "metadata": {},
   "source": [
    "### Function 3 - torch.transpose()/torch.permute()"
   ]
  },
  {
   "cell_type": "code",
   "execution_count": 62,
   "metadata": {},
   "outputs": [
    {
     "name": "stdout",
     "output_type": "stream",
     "text": [
      "a:tensor([[ 0.2035, -0.3560,  1.1718],\n",
      "        [-0.1372,  0.3027, -1.6990]])\n",
      "b:tensor([[ 0.2035, -0.1372],\n",
      "        [-0.3560,  0.3027],\n",
      "        [ 1.1718, -1.6990]])\n",
      "b.size:torch.Size([3, 2])\n"
     ]
    }
   ],
   "source": [
    "# Example 1 - \n",
    "a = torch.randn(2,3)\n",
    "b = torch.transpose(a,0,1)\n",
    "print(f'a:{a}\\nb:{b}\\nb.size:{b.size()}')"
   ]
  },
  {
   "cell_type": "markdown",
   "metadata": {},
   "source": [
    "### Function 4 - torch.reshape()/tensor.view()"
   ]
  },
  {
   "cell_type": "code",
   "execution_count": 66,
   "metadata": {},
   "outputs": [
    {
     "data": {
      "text/plain": [
       "tensor([[0., 1.],\n",
       "        [2., 3.]])"
      ]
     },
     "execution_count": 66,
     "metadata": {},
     "output_type": "execute_result"
    }
   ],
   "source": [
    "# Example 1 - ### your explanation ###\n",
    "a = torch.arange(4.0)\n",
    "b = torch.reshape(a,(2,2))\n",
    "b"
   ]
  },
  {
   "cell_type": "code",
   "execution_count": 71,
   "metadata": {},
   "outputs": [
    {
     "name": "stdout",
     "output_type": "stream",
     "text": [
      "a:tensor([[0.1121, 0.5368, 0.4736, 0.3019],\n",
      "        [0.1748, 0.0030, 0.2388, 0.4601],\n",
      "        [0.2989, 0.2290, 0.6456, 0.5241],\n",
      "        [0.7810, 0.5717, 0.7423, 0.6500]])\n",
      "a.size:torch.Size([4, 4])\n",
      "b:tensor([[0.1121, 0.5368],\n",
      "        [0.4736, 0.3019],\n",
      "        [0.1748, 0.0030],\n",
      "        [0.2388, 0.4601],\n",
      "        [0.2989, 0.2290],\n",
      "        [0.6456, 0.5241],\n",
      "        [0.7810, 0.5717],\n",
      "        [0.7423, 0.6500]])\n",
      "b.size:torch.Size([8, 2])\n"
     ]
    }
   ],
   "source": [
    "# Example 2 - ### your explanation ###\n",
    "a = torch.rand(4,4)\n",
    "b = a.view(8,2)\n",
    "print(f'a:{a}\\na.size:{a.size()}\\nb:{b}\\nb.size:{b.size()}')"
   ]
  }
 ],
 "metadata": {
  "kernelspec": {
   "display_name": "Python 3",
   "language": "python",
   "name": "python3"
  },
  "language_info": {
   "codemirror_mode": {
    "name": "ipython",
    "version": 3
   },
   "file_extension": ".py",
   "mimetype": "text/x-python",
   "name": "python",
   "nbconvert_exporter": "python",
   "pygments_lexer": "ipython3",
   "version": "3.8.5"
  }
 },
 "nbformat": 4,
 "nbformat_minor": 2
}
